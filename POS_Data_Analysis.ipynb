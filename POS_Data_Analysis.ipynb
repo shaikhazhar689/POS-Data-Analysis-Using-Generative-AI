{
 "cells": [
  {
   "cell_type": "markdown",
   "id": "139389f8-b096-4b79-b741-6023dc85c75f",
   "metadata": {},
   "source": [
    "## ***Savita's Boutique (Fashion Retail) Data Analysis Project***\n",
    "\n",
    "As the Operational Manager and Sales Analyst at Savita's Boutique, I embarked on a comprehensive analysis of our point-of-sale data. Focused on unraveling insights, my mission is to empower decision-making and uncover trends that will elevate our business strategy. Join me in this journey through the data-driven exploration of Savita's Boutique, where every observation unveils an opportunity.\n"
   ]
  },
  {
   "cell_type": "markdown",
   "id": "3adc3d70-c035-465a-9900-2fe707d995e0",
   "metadata": {},
   "source": [
    "## ***AI-Driven Data Analysis***\r\n",
    "\r\n",
    "In conducting the analysis for Savita's Boutique, I utilized my generative AI skills on the ChatGPT platform to create a virtual assistant. This AI-driven assistant streamlined the data analysis process, expediting code development and fostering a collaborative synergy between my expertise and AI capabilities.\r\n"
   ]
  },
  {
   "cell_type": "markdown",
   "id": "3c0b7c02-f889-48c4-ab03-744235de1d65",
   "metadata": {},
   "source": [
    "### ***EDA: Exploratory Data Analysis***"
   ]
  },
  {
   "cell_type": "markdown",
   "id": "1a2c1c5f-7709-4a15-b8fa-3fa3a9e8f1f0",
   "metadata": {},
   "source": [
    "#### **Import Libraries and Load Datsets**"
   ]
  },
  {
   "cell_type": "code",
   "execution_count": 1,
   "id": "06e2715c-40ba-450b-ab24-0b229f603bf5",
   "metadata": {},
   "outputs": [],
   "source": [
    "# Import Libraries\n",
    "\n",
    "import pandas as pd\n",
    "import numpy as np\n",
    "import seaborn as sns\n",
    "import datetime as dt\n",
    "import matplotlib.pyplot as plt\n",
    "import statsmodels.api as sm\n",
    "from scipy import stats\n",
    "from sklearn.linear_model import LinearRegression\n",
    "from sklearn.model_selection import train_test_split\n",
    "from sklearn.metrics import mean_squared_error\n",
    "from sklearn.cluster import KMeans\n",
    "from sklearn.preprocessing import StandardScaler"
   ]
  },
  {
   "cell_type": "code",
   "execution_count": 2,
   "id": "02d72a32-e710-414a-85de-e115e9803ca9",
   "metadata": {},
   "outputs": [],
   "source": [
    "suppliers = pd.read_csv(\"C:/Users/azhar/Desktop/Python/Savitas Boutique/suppliers.csv\")"
   ]
  },
  {
   "cell_type": "code",
   "execution_count": 3,
   "id": "323aa569-80bf-4c11-91ca-57cccf099068",
   "metadata": {},
   "outputs": [],
   "source": [
    "customers = pd.read_csv(\"C:/Users/azhar/Desktop/Python/Savitas Boutique/customers.csv\")"
   ]
  },
  {
   "cell_type": "code",
   "execution_count": 4,
   "id": "88cae6f4-00a4-4724-9126-20917492bd65",
   "metadata": {},
   "outputs": [
    {
     "data": {
      "text/html": [
       "<div>\n",
       "<style scoped>\n",
       "    .dataframe tbody tr th:only-of-type {\n",
       "        vertical-align: middle;\n",
       "    }\n",
       "\n",
       "    .dataframe tbody tr th {\n",
       "        vertical-align: top;\n",
       "    }\n",
       "\n",
       "    .dataframe thead th {\n",
       "        text-align: right;\n",
       "    }\n",
       "</style>\n",
       "<table border=\"1\" class=\"dataframe\">\n",
       "  <thead>\n",
       "    <tr style=\"text-align: right;\">\n",
       "      <th></th>\n",
       "      <th>Transaction_id</th>\n",
       "      <th>Date</th>\n",
       "      <th>Supplier_Name</th>\n",
       "      <th>Category</th>\n",
       "      <th>Quantity</th>\n",
       "      <th>Tax</th>\n",
       "      <th>Selling_Price</th>\n",
       "      <th>Cost_Price</th>\n",
       "      <th>Profit</th>\n",
       "      <th>Discount</th>\n",
       "      <th>Supplier_Location</th>\n",
       "    </tr>\n",
       "  </thead>\n",
       "  <tbody>\n",
       "    <tr>\n",
       "      <th>0</th>\n",
       "      <td>2</td>\n",
       "      <td>06-03-2022</td>\n",
       "      <td>Pehnava</td>\n",
       "      <td>Dress</td>\n",
       "      <td>1</td>\n",
       "      <td>0.0</td>\n",
       "      <td>3100</td>\n",
       "      <td>1550</td>\n",
       "      <td>1550.0</td>\n",
       "      <td>550.0</td>\n",
       "      <td>Mumbai</td>\n",
       "    </tr>\n",
       "    <tr>\n",
       "      <th>1</th>\n",
       "      <td>3</td>\n",
       "      <td>06-03-2022</td>\n",
       "      <td>Pehnava</td>\n",
       "      <td>Dress</td>\n",
       "      <td>1</td>\n",
       "      <td>0.0</td>\n",
       "      <td>4100</td>\n",
       "      <td>1750</td>\n",
       "      <td>2350.0</td>\n",
       "      <td>400.0</td>\n",
       "      <td>Mumbai</td>\n",
       "    </tr>\n",
       "    <tr>\n",
       "      <th>2</th>\n",
       "      <td>3</td>\n",
       "      <td>06-03-2022</td>\n",
       "      <td>Pehnava</td>\n",
       "      <td>Dress</td>\n",
       "      <td>1</td>\n",
       "      <td>0.0</td>\n",
       "      <td>3200</td>\n",
       "      <td>1800</td>\n",
       "      <td>1400.0</td>\n",
       "      <td>650.0</td>\n",
       "      <td>Mumbai</td>\n",
       "    </tr>\n",
       "    <tr>\n",
       "      <th>3</th>\n",
       "      <td>4</td>\n",
       "      <td>06-03-2022</td>\n",
       "      <td>Savita's Design</td>\n",
       "      <td>Dress</td>\n",
       "      <td>1</td>\n",
       "      <td>0.0</td>\n",
       "      <td>17500</td>\n",
       "      <td>17500</td>\n",
       "      <td>0.0</td>\n",
       "      <td>10000.0</td>\n",
       "      <td>Nashik</td>\n",
       "    </tr>\n",
       "    <tr>\n",
       "      <th>4</th>\n",
       "      <td>5</td>\n",
       "      <td>06-03-2022</td>\n",
       "      <td>Pehnava</td>\n",
       "      <td>Dress</td>\n",
       "      <td>1</td>\n",
       "      <td>0.0</td>\n",
       "      <td>2000</td>\n",
       "      <td>1095</td>\n",
       "      <td>905.0</td>\n",
       "      <td>550.0</td>\n",
       "      <td>Mumbai</td>\n",
       "    </tr>\n",
       "  </tbody>\n",
       "</table>\n",
       "</div>"
      ],
      "text/plain": [
       "   Transaction_id        Date    Supplier_Name Category  Quantity  Tax  \\\n",
       "0               2  06-03-2022          Pehnava    Dress         1  0.0   \n",
       "1               3  06-03-2022          Pehnava    Dress         1  0.0   \n",
       "2               3  06-03-2022          Pehnava    Dress         1  0.0   \n",
       "3               4  06-03-2022  Savita's Design    Dress         1  0.0   \n",
       "4               5  06-03-2022          Pehnava    Dress         1  0.0   \n",
       "\n",
       "   Selling_Price  Cost_Price  Profit  Discount Supplier_Location  \n",
       "0           3100        1550  1550.0     550.0            Mumbai  \n",
       "1           4100        1750  2350.0     400.0            Mumbai  \n",
       "2           3200        1800  1400.0     650.0            Mumbai  \n",
       "3          17500       17500     0.0   10000.0            Nashik  \n",
       "4           2000        1095   905.0     550.0            Mumbai  "
      ]
     },
     "execution_count": 4,
     "metadata": {},
     "output_type": "execute_result"
    }
   ],
   "source": [
    "suppliers.head(5)"
   ]
  },
  {
   "cell_type": "code",
   "execution_count": 5,
   "id": "960687e7-6267-42f2-99f5-ca33eb932877",
   "metadata": {},
   "outputs": [
    {
     "name": "stdout",
     "output_type": "stream",
     "text": [
      "<class 'pandas.core.frame.DataFrame'>\n",
      "RangeIndex: 1996 entries, 0 to 1995\n",
      "Data columns (total 11 columns):\n",
      " #   Column             Non-Null Count  Dtype  \n",
      "---  ------             --------------  -----  \n",
      " 0   Transaction_id     1996 non-null   int64  \n",
      " 1   Date               1996 non-null   object \n",
      " 2   Supplier_Name      1996 non-null   object \n",
      " 3   Category           1996 non-null   object \n",
      " 4   Quantity           1996 non-null   int64  \n",
      " 5   Tax                1996 non-null   float64\n",
      " 6   Selling_Price      1996 non-null   int64  \n",
      " 7   Cost_Price         1996 non-null   int64  \n",
      " 8   Profit             1996 non-null   float64\n",
      " 9   Discount           1996 non-null   float64\n",
      " 10  Supplier_Location  1996 non-null   object \n",
      "dtypes: float64(3), int64(4), object(4)\n",
      "memory usage: 171.7+ KB\n"
     ]
    }
   ],
   "source": [
    "suppliers.info()"
   ]
  },
  {
   "cell_type": "code",
   "execution_count": 6,
   "id": "31e4866b-4025-406d-a9b8-5364f1eb0f03",
   "metadata": {},
   "outputs": [
    {
     "data": {
      "text/html": [
       "<div>\n",
       "<style scoped>\n",
       "    .dataframe tbody tr th:only-of-type {\n",
       "        vertical-align: middle;\n",
       "    }\n",
       "\n",
       "    .dataframe tbody tr th {\n",
       "        vertical-align: top;\n",
       "    }\n",
       "\n",
       "    .dataframe thead th {\n",
       "        text-align: right;\n",
       "    }\n",
       "</style>\n",
       "<table border=\"1\" class=\"dataframe\">\n",
       "  <thead>\n",
       "    <tr style=\"text-align: right;\">\n",
       "      <th></th>\n",
       "      <th>Transaction_id</th>\n",
       "      <th>Date</th>\n",
       "      <th>Customer_Name</th>\n",
       "      <th>Quantity</th>\n",
       "      <th>Tax</th>\n",
       "      <th>Selling_Price</th>\n",
       "      <th>Cost_Price</th>\n",
       "      <th>Profit</th>\n",
       "    </tr>\n",
       "  </thead>\n",
       "  <tbody>\n",
       "    <tr>\n",
       "      <th>0</th>\n",
       "      <td>2</td>\n",
       "      <td>06-03-2022</td>\n",
       "      <td>Dr.Snehal Desai</td>\n",
       "      <td>1</td>\n",
       "      <td>0.0</td>\n",
       "      <td>3100.0</td>\n",
       "      <td>1550.0</td>\n",
       "      <td>1550.0</td>\n",
       "    </tr>\n",
       "    <tr>\n",
       "      <th>1</th>\n",
       "      <td>3</td>\n",
       "      <td>06-03-2022</td>\n",
       "      <td>Meena Mehta</td>\n",
       "      <td>3</td>\n",
       "      <td>0.0</td>\n",
       "      <td>10400.0</td>\n",
       "      <td>5100.0</td>\n",
       "      <td>5300.0</td>\n",
       "    </tr>\n",
       "    <tr>\n",
       "      <th>2</th>\n",
       "      <td>4</td>\n",
       "      <td>06-03-2022</td>\n",
       "      <td>Dr.Vaishali Chopra</td>\n",
       "      <td>1</td>\n",
       "      <td>0.0</td>\n",
       "      <td>17500.0</td>\n",
       "      <td>17500.0</td>\n",
       "      <td>0.0</td>\n",
       "    </tr>\n",
       "    <tr>\n",
       "      <th>3</th>\n",
       "      <td>5</td>\n",
       "      <td>06-03-2022</td>\n",
       "      <td>Leena Sapkale</td>\n",
       "      <td>2</td>\n",
       "      <td>0.0</td>\n",
       "      <td>4500.0</td>\n",
       "      <td>2490.0</td>\n",
       "      <td>2010.0</td>\n",
       "    </tr>\n",
       "    <tr>\n",
       "      <th>4</th>\n",
       "      <td>6</td>\n",
       "      <td>08-03-2022</td>\n",
       "      <td>Pranita Patil</td>\n",
       "      <td>3</td>\n",
       "      <td>0.0</td>\n",
       "      <td>11000.0</td>\n",
       "      <td>6195.0</td>\n",
       "      <td>4805.0</td>\n",
       "    </tr>\n",
       "  </tbody>\n",
       "</table>\n",
       "</div>"
      ],
      "text/plain": [
       "   Transaction_id        Date       Customer_Name  Quantity  Tax  \\\n",
       "0               2  06-03-2022     Dr.Snehal Desai         1  0.0   \n",
       "1               3  06-03-2022         Meena Mehta         3  0.0   \n",
       "2               4  06-03-2022  Dr.Vaishali Chopra         1  0.0   \n",
       "3               5  06-03-2022       Leena Sapkale         2  0.0   \n",
       "4               6  08-03-2022       Pranita Patil         3  0.0   \n",
       "\n",
       "   Selling_Price  Cost_Price  Profit  \n",
       "0         3100.0      1550.0  1550.0  \n",
       "1        10400.0      5100.0  5300.0  \n",
       "2        17500.0     17500.0     0.0  \n",
       "3         4500.0      2490.0  2010.0  \n",
       "4        11000.0      6195.0  4805.0  "
      ]
     },
     "execution_count": 6,
     "metadata": {},
     "output_type": "execute_result"
    }
   ],
   "source": [
    "customers.head(5)"
   ]
  },
  {
   "cell_type": "raw",
   "id": "9b9cd0f7-3d16-48ce-b457-95dce53740e5",
   "metadata": {},
   "source": [
    "customers.info()"
   ]
  },
  {
   "cell_type": "code",
   "execution_count": 7,
   "id": "d0f056b7-2827-4c20-84f0-8f3f7518738e",
   "metadata": {},
   "outputs": [
    {
     "data": {
      "text/html": [
       "<div>\n",
       "<style scoped>\n",
       "    .dataframe tbody tr th:only-of-type {\n",
       "        vertical-align: middle;\n",
       "    }\n",
       "\n",
       "    .dataframe tbody tr th {\n",
       "        vertical-align: top;\n",
       "    }\n",
       "\n",
       "    .dataframe thead th {\n",
       "        text-align: right;\n",
       "    }\n",
       "</style>\n",
       "<table border=\"1\" class=\"dataframe\">\n",
       "  <thead>\n",
       "    <tr style=\"text-align: right;\">\n",
       "      <th></th>\n",
       "      <th>Transaction_id</th>\n",
       "      <th>Date</th>\n",
       "      <th>Supplier_Name</th>\n",
       "      <th>Category</th>\n",
       "      <th>Quantity</th>\n",
       "      <th>Tax</th>\n",
       "      <th>Selling_Price</th>\n",
       "      <th>Cost_Price</th>\n",
       "      <th>Profit</th>\n",
       "      <th>Discount</th>\n",
       "      <th>Supplier_Location</th>\n",
       "      <th>Customer_Name</th>\n",
       "    </tr>\n",
       "  </thead>\n",
       "  <tbody>\n",
       "    <tr>\n",
       "      <th>0</th>\n",
       "      <td>2</td>\n",
       "      <td>06-03-2022</td>\n",
       "      <td>Pehnava</td>\n",
       "      <td>Dress</td>\n",
       "      <td>1</td>\n",
       "      <td>0.0</td>\n",
       "      <td>3100</td>\n",
       "      <td>1550</td>\n",
       "      <td>1550.0</td>\n",
       "      <td>550.0</td>\n",
       "      <td>Mumbai</td>\n",
       "      <td>Dr.Snehal Desai</td>\n",
       "    </tr>\n",
       "    <tr>\n",
       "      <th>1</th>\n",
       "      <td>3</td>\n",
       "      <td>06-03-2022</td>\n",
       "      <td>Pehnava</td>\n",
       "      <td>Dress</td>\n",
       "      <td>1</td>\n",
       "      <td>0.0</td>\n",
       "      <td>4100</td>\n",
       "      <td>1750</td>\n",
       "      <td>2350.0</td>\n",
       "      <td>400.0</td>\n",
       "      <td>Mumbai</td>\n",
       "      <td>Meena Mehta</td>\n",
       "    </tr>\n",
       "    <tr>\n",
       "      <th>2</th>\n",
       "      <td>3</td>\n",
       "      <td>06-03-2022</td>\n",
       "      <td>Pehnava</td>\n",
       "      <td>Dress</td>\n",
       "      <td>1</td>\n",
       "      <td>0.0</td>\n",
       "      <td>3200</td>\n",
       "      <td>1800</td>\n",
       "      <td>1400.0</td>\n",
       "      <td>650.0</td>\n",
       "      <td>Mumbai</td>\n",
       "      <td>Meena Mehta</td>\n",
       "    </tr>\n",
       "    <tr>\n",
       "      <th>3</th>\n",
       "      <td>3</td>\n",
       "      <td>16-03-2022</td>\n",
       "      <td>Pehnava</td>\n",
       "      <td>Dress</td>\n",
       "      <td>1</td>\n",
       "      <td>0.0</td>\n",
       "      <td>2350</td>\n",
       "      <td>1550</td>\n",
       "      <td>800.0</td>\n",
       "      <td>750.0</td>\n",
       "      <td>Mumbai</td>\n",
       "      <td>Meena Mehta</td>\n",
       "    </tr>\n",
       "    <tr>\n",
       "      <th>4</th>\n",
       "      <td>4</td>\n",
       "      <td>06-03-2022</td>\n",
       "      <td>Savita's Design</td>\n",
       "      <td>Dress</td>\n",
       "      <td>1</td>\n",
       "      <td>0.0</td>\n",
       "      <td>17500</td>\n",
       "      <td>17500</td>\n",
       "      <td>0.0</td>\n",
       "      <td>10000.0</td>\n",
       "      <td>Nashik</td>\n",
       "      <td>Dr.Vaishali Chopra</td>\n",
       "    </tr>\n",
       "  </tbody>\n",
       "</table>\n",
       "</div>"
      ],
      "text/plain": [
       "   Transaction_id        Date    Supplier_Name Category  Quantity  Tax  \\\n",
       "0               2  06-03-2022          Pehnava    Dress         1  0.0   \n",
       "1               3  06-03-2022          Pehnava    Dress         1  0.0   \n",
       "2               3  06-03-2022          Pehnava    Dress         1  0.0   \n",
       "3               3  16-03-2022          Pehnava    Dress         1  0.0   \n",
       "4               4  06-03-2022  Savita's Design    Dress         1  0.0   \n",
       "\n",
       "   Selling_Price  Cost_Price  Profit  Discount Supplier_Location  \\\n",
       "0           3100        1550  1550.0     550.0            Mumbai   \n",
       "1           4100        1750  2350.0     400.0            Mumbai   \n",
       "2           3200        1800  1400.0     650.0            Mumbai   \n",
       "3           2350        1550   800.0     750.0            Mumbai   \n",
       "4          17500       17500     0.0   10000.0            Nashik   \n",
       "\n",
       "        Customer_Name  \n",
       "0     Dr.Snehal Desai  \n",
       "1         Meena Mehta  \n",
       "2         Meena Mehta  \n",
       "3         Meena Mehta  \n",
       "4  Dr.Vaishali Chopra  "
      ]
     },
     "execution_count": 7,
     "metadata": {},
     "output_type": "execute_result"
    }
   ],
   "source": [
    "\n",
    "# Merge DataFrames based on 'Transaction_id'\n",
    "merged_data = pd.merge(suppliers, customers, on='Transaction_id', how='inner')\n",
    "\n",
    "# Select the desired columns\n",
    "boutique = merged_data[['Transaction_id', 'Date_x', 'Supplier_Name', 'Category', 'Quantity_x', 'Tax_x',\n",
    "                         'Selling_Price_x', 'Cost_Price_x', 'Profit_x', 'Discount', 'Supplier_Location',\n",
    "                         'Customer_Name']]\n",
    "\n",
    "# Rename columns if needed (suffixes '_x' were added due to column name conflicts)\n",
    "boutique = boutique.rename(columns={'Date_x': 'Date', 'Quantity_x': 'Quantity', 'Tax_x': 'Tax',\n",
    "                                      'Selling_Price_x': 'Selling_Price', 'Cost_Price_x': 'Cost_Price',\n",
    "                                      'Profit_x': 'Profit'})\n",
    "\n",
    "# Display the resulting DataFrame\n",
    "boutique.head()\n"
   ]
  },
  {
   "cell_type": "code",
   "execution_count": 8,
   "id": "ff85fc11-5e6f-46ed-aa71-853ff297cfa4",
   "metadata": {},
   "outputs": [
    {
     "data": {
      "text/plain": [
       "(1996, 12)"
      ]
     },
     "execution_count": 8,
     "metadata": {},
     "output_type": "execute_result"
    }
   ],
   "source": [
    "boutique.shape"
   ]
  },
  {
   "cell_type": "code",
   "execution_count": 9,
   "id": "a7cb9b26-b246-4d5b-bcda-118556710b08",
   "metadata": {},
   "outputs": [
    {
     "name": "stdout",
     "output_type": "stream",
     "text": [
      "<class 'pandas.core.frame.DataFrame'>\n",
      "RangeIndex: 1996 entries, 0 to 1995\n",
      "Data columns (total 12 columns):\n",
      " #   Column             Non-Null Count  Dtype  \n",
      "---  ------             --------------  -----  \n",
      " 0   Transaction_id     1996 non-null   int64  \n",
      " 1   Date               1996 non-null   object \n",
      " 2   Supplier_Name      1996 non-null   object \n",
      " 3   Category           1996 non-null   object \n",
      " 4   Quantity           1996 non-null   int64  \n",
      " 5   Tax                1996 non-null   float64\n",
      " 6   Selling_Price      1996 non-null   int64  \n",
      " 7   Cost_Price         1996 non-null   int64  \n",
      " 8   Profit             1996 non-null   float64\n",
      " 9   Discount           1996 non-null   float64\n",
      " 10  Supplier_Location  1996 non-null   object \n",
      " 11  Customer_Name      1996 non-null   object \n",
      "dtypes: float64(3), int64(4), object(5)\n",
      "memory usage: 187.2+ KB\n"
     ]
    }
   ],
   "source": [
    "boutique.info()"
   ]
  },
  {
   "cell_type": "markdown",
   "id": "ca1c23df-7072-43f8-b99f-4326904f8870",
   "metadata": {},
   "source": [
    "#### **Grand Total Overview: Financial Insights**"
   ]
  },
  {
   "cell_type": "code",
   "execution_count": 10,
   "id": "7a4b005c-860a-47ce-b3c0-c0632197092c",
   "metadata": {},
   "outputs": [
    {
     "name": "stdout",
     "output_type": "stream",
     "text": [
      "Grand Total (Values In Million):\n",
      "Quantity         2509.00\n",
      "Selling_Price      14.44\n",
      "Cost_Price          8.90\n",
      "Discount            3.41\n",
      "Tax                 0.14\n",
      "Profit              5.40\n",
      "dtype: float64\n"
     ]
    }
   ],
   "source": [
    "\n",
    "# Calculate grand total\n",
    "grand_total = boutique.agg({\n",
    "    'Quantity': 'sum',\n",
    "    'Selling_Price': 'sum',\n",
    "    'Cost_Price': 'sum',\n",
    "    'Discount': 'sum',\n",
    "    'Tax': 'sum',\n",
    "    'Profit': 'sum'\n",
    "})\n",
    "\n",
    "# Convert values to millions with two decimal points\n",
    "grand_total['Selling_Price'] = round(grand_total['Selling_Price'] / 1e6, 2)\n",
    "grand_total['Cost_Price'] = round(grand_total['Cost_Price'] / 1e6, 2)\n",
    "grand_total['Discount'] = round(grand_total['Discount'] / 1e6, 2)\n",
    "grand_total['Tax'] = round(grand_total['Tax'] / 1e6, 2)\n",
    "grand_total['Profit'] = round(grand_total['Profit'] / 1e6, 2)\n",
    "\n",
    "# Display the grand total table\n",
    "print(\"Grand Total (Values In Million):\")\n",
    "print(grand_total)\n"
   ]
  },
  {
   "cell_type": "markdown",
   "id": "60fd82e8-bc17-4211-b504-358038c72f32",
   "metadata": {},
   "source": [
    "#### **Category-wise Analysis: Sales and Profits**"
   ]
  },
  {
   "cell_type": "code",
   "execution_count": 11,
   "id": "c6f9ace7-8d28-41f3-baa0-1789b953b97b",
   "metadata": {},
   "outputs": [
    {
     "name": "stdout",
     "output_type": "stream",
     "text": [
      "    Category  Quantity  Selling_Price     Profit\n",
      "1      Dress      2344       13281033  5009706.1\n",
      "8      Saree        64         535186   180363.0\n",
      "2    Dupatta        40         270125    91716.0\n",
      "5      Kurti        15          92550    37368.0\n",
      "3     Ghagra         2          48175    19445.0\n",
      "0   Anarkali         4          89900    18255.0\n",
      "6    Palazzo         8          33403    14768.0\n",
      "7       Pant        19          29976    13127.0\n",
      "10       Top         6          35700    11740.0\n",
      "9    Sharara         4          11380     4867.0\n",
      "4    Kaftaan         3          10125     2525.0\n"
     ]
    }
   ],
   "source": [
    "\n",
    "# Group data by 'Category' and aggregate metrics\n",
    "category_analysis = boutique.groupby('Category').agg({\n",
    "    'Quantity': 'sum',\n",
    "    'Selling_Price': 'sum',\n",
    "    'Profit': 'sum',\n",
    "    # Add more metrics as needed\n",
    "}).reset_index()\n",
    "\n",
    "# Sort the DataFrame by total profit (or any other relevant metric)\n",
    "category_analysis = category_analysis.sort_values(by='Profit', ascending=False)\n",
    "\n",
    "# Print or display the category-wise analysis\n",
    "print(category_analysis)\n"
   ]
  },
  {
   "cell_type": "markdown",
   "id": "b79a1fcf-d545-467a-bb45-e511abb4e384",
   "metadata": {},
   "source": [
    "#### **Descriptive Analysis**"
   ]
  },
  {
   "cell_type": "code",
   "execution_count": 12,
   "id": "59333b61-de40-42d4-a6ca-14302f8fb368",
   "metadata": {},
   "outputs": [
    {
     "name": "stdout",
     "output_type": "stream",
     "text": [
      "count     1996.000000\n",
      "mean      4457.852705\n",
      "std       5164.162459\n",
      "min        475.000000\n",
      "25%       1698.750000\n",
      "50%       2750.000000\n",
      "75%       5000.000000\n",
      "max      62000.000000\n",
      "Name: Cost_Price, dtype: float64\n"
     ]
    }
   ],
   "source": [
    "\n",
    "# Descriptive analysis for the 'Cost_Price' column\n",
    "cost_price_stats = boutique['Cost_Price'].describe()\n",
    "\n",
    "# Display the summary statistics\n",
    "print(cost_price_stats)\n"
   ]
  },
  {
   "cell_type": "markdown",
   "id": "0e32f582-9a81-4a13-9b15-d68f7add1eae",
   "metadata": {},
   "source": [
    "#### **Create New Column for Price Ranges (Low, Medium and High)**"
   ]
  },
  {
   "cell_type": "code",
   "execution_count": 13,
   "id": "eb372f11-1d7a-4df4-9c32-14c3195e9786",
   "metadata": {},
   "outputs": [
    {
     "data": {
      "text/html": [
       "<div>\n",
       "<style scoped>\n",
       "    .dataframe tbody tr th:only-of-type {\n",
       "        vertical-align: middle;\n",
       "    }\n",
       "\n",
       "    .dataframe tbody tr th {\n",
       "        vertical-align: top;\n",
       "    }\n",
       "\n",
       "    .dataframe thead th {\n",
       "        text-align: right;\n",
       "    }\n",
       "</style>\n",
       "<table border=\"1\" class=\"dataframe\">\n",
       "  <thead>\n",
       "    <tr style=\"text-align: right;\">\n",
       "      <th></th>\n",
       "      <th>Transaction_id</th>\n",
       "      <th>Date</th>\n",
       "      <th>Supplier_Name</th>\n",
       "      <th>Category</th>\n",
       "      <th>Quantity</th>\n",
       "      <th>Tax</th>\n",
       "      <th>Selling_Price</th>\n",
       "      <th>Cost_Price</th>\n",
       "      <th>Profit</th>\n",
       "      <th>Discount</th>\n",
       "      <th>Supplier_Location</th>\n",
       "      <th>Customer_Name</th>\n",
       "      <th>Price_Range</th>\n",
       "    </tr>\n",
       "  </thead>\n",
       "  <tbody>\n",
       "    <tr>\n",
       "      <th>0</th>\n",
       "      <td>2</td>\n",
       "      <td>06-03-2022</td>\n",
       "      <td>Pehnava</td>\n",
       "      <td>Dress</td>\n",
       "      <td>1</td>\n",
       "      <td>0.0</td>\n",
       "      <td>3100</td>\n",
       "      <td>1550</td>\n",
       "      <td>1550.0</td>\n",
       "      <td>550.0</td>\n",
       "      <td>Mumbai</td>\n",
       "      <td>Dr.Snehal Desai</td>\n",
       "      <td>Low</td>\n",
       "    </tr>\n",
       "    <tr>\n",
       "      <th>1</th>\n",
       "      <td>3</td>\n",
       "      <td>06-03-2022</td>\n",
       "      <td>Pehnava</td>\n",
       "      <td>Dress</td>\n",
       "      <td>1</td>\n",
       "      <td>0.0</td>\n",
       "      <td>4100</td>\n",
       "      <td>1750</td>\n",
       "      <td>2350.0</td>\n",
       "      <td>400.0</td>\n",
       "      <td>Mumbai</td>\n",
       "      <td>Meena Mehta</td>\n",
       "      <td>Low</td>\n",
       "    </tr>\n",
       "    <tr>\n",
       "      <th>2</th>\n",
       "      <td>3</td>\n",
       "      <td>06-03-2022</td>\n",
       "      <td>Pehnava</td>\n",
       "      <td>Dress</td>\n",
       "      <td>1</td>\n",
       "      <td>0.0</td>\n",
       "      <td>3200</td>\n",
       "      <td>1800</td>\n",
       "      <td>1400.0</td>\n",
       "      <td>650.0</td>\n",
       "      <td>Mumbai</td>\n",
       "      <td>Meena Mehta</td>\n",
       "      <td>Low</td>\n",
       "    </tr>\n",
       "    <tr>\n",
       "      <th>3</th>\n",
       "      <td>3</td>\n",
       "      <td>16-03-2022</td>\n",
       "      <td>Pehnava</td>\n",
       "      <td>Dress</td>\n",
       "      <td>1</td>\n",
       "      <td>0.0</td>\n",
       "      <td>2350</td>\n",
       "      <td>1550</td>\n",
       "      <td>800.0</td>\n",
       "      <td>750.0</td>\n",
       "      <td>Mumbai</td>\n",
       "      <td>Meena Mehta</td>\n",
       "      <td>Low</td>\n",
       "    </tr>\n",
       "    <tr>\n",
       "      <th>4</th>\n",
       "      <td>4</td>\n",
       "      <td>06-03-2022</td>\n",
       "      <td>Savita's Design</td>\n",
       "      <td>Dress</td>\n",
       "      <td>1</td>\n",
       "      <td>0.0</td>\n",
       "      <td>17500</td>\n",
       "      <td>17500</td>\n",
       "      <td>0.0</td>\n",
       "      <td>10000.0</td>\n",
       "      <td>Nashik</td>\n",
       "      <td>Dr.Vaishali Chopra</td>\n",
       "      <td>High</td>\n",
       "    </tr>\n",
       "  </tbody>\n",
       "</table>\n",
       "</div>"
      ],
      "text/plain": [
       "   Transaction_id        Date    Supplier_Name Category  Quantity  Tax  \\\n",
       "0               2  06-03-2022          Pehnava    Dress         1  0.0   \n",
       "1               3  06-03-2022          Pehnava    Dress         1  0.0   \n",
       "2               3  06-03-2022          Pehnava    Dress         1  0.0   \n",
       "3               3  16-03-2022          Pehnava    Dress         1  0.0   \n",
       "4               4  06-03-2022  Savita's Design    Dress         1  0.0   \n",
       "\n",
       "   Selling_Price  Cost_Price  Profit  Discount Supplier_Location  \\\n",
       "0           3100        1550  1550.0     550.0            Mumbai   \n",
       "1           4100        1750  2350.0     400.0            Mumbai   \n",
       "2           3200        1800  1400.0     650.0            Mumbai   \n",
       "3           2350        1550   800.0     750.0            Mumbai   \n",
       "4          17500       17500     0.0   10000.0            Nashik   \n",
       "\n",
       "        Customer_Name Price_Range  \n",
       "0     Dr.Snehal Desai         Low  \n",
       "1         Meena Mehta         Low  \n",
       "2         Meena Mehta         Low  \n",
       "3         Meena Mehta         Low  \n",
       "4  Dr.Vaishali Chopra        High  "
      ]
     },
     "execution_count": 13,
     "metadata": {},
     "output_type": "execute_result"
    }
   ],
   "source": [
    "\n",
    "# Calculate the quantiles for cost price\n",
    "low_quantile = boutique['Cost_Price'].quantile(0.5)\n",
    "medium_quantile_lower = boutique['Cost_Price'].quantile(0.5)\n",
    "medium_quantile_upper = boutique['Cost_Price'].quantile(0.75)\n",
    "\n",
    "# Create a new column 'Price_Range' based on cost price quantiles\n",
    "boutique['Price_Range'] = pd.cut(\n",
    "    boutique['Cost_Price'],\n",
    "    bins=[-float('inf'), low_quantile, medium_quantile_upper, float('inf')],\n",
    "    labels=['Low', 'Medium', 'High'],\n",
    "    include_lowest=True\n",
    ")\n",
    "\n",
    "# Display the first few rows of the DataFrame with the new 'Price_Range' column\n",
    "boutique.head()\n"
   ]
  },
  {
   "cell_type": "code",
   "execution_count": 14,
   "id": "29782601-618d-496a-a5e7-c5c33d28dca7",
   "metadata": {},
   "outputs": [],
   "source": [
    "boutique.to_csv('new_dataframe.csv', index=False)"
   ]
  },
  {
   "cell_type": "markdown",
   "id": "96671fde-2cea-4eeb-99ee-a3860945ebf0",
   "metadata": {},
   "source": [
    "#### **Price Range Summary**"
   ]
  },
  {
   "cell_type": "code",
   "execution_count": 15,
   "id": "c9e258ad-d89a-4d2e-a58c-bae2f8b98020",
   "metadata": {},
   "outputs": [
    {
     "name": "stdout",
     "output_type": "stream",
     "text": [
      "Summary by Price Range:\n",
      "  Price_Range  Quantity  Cost_Price  Selling_Price     Profit\n",
      "0         Low      1044     1780622        3426289  1614084.0\n",
      "1      Medium       577     1780648        3093366  1283017.0\n",
      "2        High       888     5336604        7917898  2506779.1\n"
     ]
    }
   ],
   "source": [
    "\n",
    "# Group by 'Price_Range' and aggregate sum for relevant columns\n",
    "price_range_summary = boutique.groupby('Price_Range', observed=False).agg({\n",
    "    'Quantity': 'sum',\n",
    "    'Cost_Price': 'sum',\n",
    "    'Selling_Price': 'sum',\n",
    "    'Profit': 'sum'\n",
    "}).reset_index()\n",
    "\n",
    "# Display the summary table\n",
    "print(\"Summary by Price Range:\")\n",
    "print(price_range_summary)\n"
   ]
  },
  {
   "cell_type": "markdown",
   "id": "6d6daadb-ed21-4b0f-aeb9-aa87207948bc",
   "metadata": {},
   "source": [
    "### ***Supplier and Customer Dynamics***"
   ]
  },
  {
   "cell_type": "markdown",
   "id": "cfe7dbbc-d60a-4fa3-bfce-8770beda6206",
   "metadata": {},
   "source": [
    "#### **Top Suppliers**"
   ]
  },
  {
   "cell_type": "code",
   "execution_count": 16,
   "id": "ea169766-2857-434d-89d2-3e778ef0de18",
   "metadata": {},
   "outputs": [
    {
     "name": "stdin",
     "output_type": "stream",
     "text": [
      "Enter 'top' or 'lowest' to see the corresponding selling suppliers:  top\n"
     ]
    },
    {
     "name": "stdout",
     "output_type": "stream",
     "text": [
      "\n",
      "Top Selling Suppliers:\n",
      "      Supplier_Name  Quantity  Selling_Price\n",
      "19          Pehnava      1018        4600589\n",
      "10    Harsh Fabrics       338        1582637\n",
      "27          Vandana       244        1961643\n",
      "21  Savita's Design       218        1365683\n",
      "0               ADA       133        1396372\n"
     ]
    }
   ],
   "source": [
    "\n",
    "# Get user input for whether to see top or lowest selling suppliers\n",
    "user_input = input(\"Enter 'top' or 'lowest' to see the corresponding selling suppliers: \").lower()\n",
    "\n",
    "# Check if the input is valid\n",
    "if user_input not in ['top', 'lowest']:\n",
    "    print(\"Invalid input. Please enter 'top' or 'lowest'.\")\n",
    "else:\n",
    "    # Group by supplier and aggregate the total quantity sold and sum of selling prices\n",
    "    selling_suppliers = boutique.groupby('Supplier_Name').agg({\n",
    "        'Quantity': 'sum',\n",
    "        'Selling_Price': 'sum'\n",
    "    }).reset_index()\n",
    "\n",
    "    # Sort the DataFrame by quantity in either ascending or descending order based on user input\n",
    "    sort_order = False if user_input == 'top' else True\n",
    "    selling_suppliers = selling_suppliers.sort_values(by='Quantity', ascending=sort_order)\n",
    "\n",
    "    # Display the top or lowest selling suppliers with total quantity and total selling price\n",
    "    print(f\"\\n{user_input.capitalize()} Selling Suppliers:\")\n",
    "    print(selling_suppliers.head())\n"
   ]
  },
  {
   "cell_type": "markdown",
   "id": "aa3bcae2-2b3e-44b3-a054-7ebb5f70ff7e",
   "metadata": {},
   "source": [
    "#### **Top Customers**"
   ]
  },
  {
   "cell_type": "code",
   "execution_count": 17,
   "id": "4b594e32-4e5d-4ed1-b8b3-7270cc279930",
   "metadata": {},
   "outputs": [
    {
     "name": "stdin",
     "output_type": "stream",
     "text": [
      "Enter 'top' or 'lowest' to see the corresponding customer purchase:  top\n"
     ]
    },
    {
     "name": "stdout",
     "output_type": "stream",
     "text": [
      "\n",
      "Top Customer Purchase:\n",
      "        Customer_Name  Quantity  Selling_Price\n",
      "108   Mandakini Patil       201        1421018\n",
      "266  Vaishali R Patil       178        1264781\n",
      "31        Bharti Wagh       164        1189756\n",
      "167     Pranita Patil       142        1107605\n",
      "144       Naina Patil        74         639390\n"
     ]
    }
   ],
   "source": [
    "\n",
    "# Get user input for whether to see top or lowest Customers\n",
    "user_input = input(\"Enter 'top' or 'lowest' to see the corresponding customer purchase: \").lower()\n",
    "\n",
    "# Check if the input is valid\n",
    "if user_input not in ['top', 'lowest']:\n",
    "    print(\"Invalid input. Please enter 'top' or 'lowest'.\")\n",
    "else:\n",
    "    # Group by supplier and aggregate the total quantity sold and sum of selling prices\n",
    "    customer_purchase = boutique.groupby('Customer_Name').agg({\n",
    "        'Quantity': 'sum',\n",
    "        'Selling_Price': 'sum'\n",
    "    }).reset_index()\n",
    "\n",
    "    # Sort the DataFrame by quantity in either ascending or descending order based on user input\n",
    "    sort_order = False if user_input == 'top' else True\n",
    "    customer_purchase = customer_purchase.sort_values(by='Quantity', ascending=sort_order)\n",
    "\n",
    "    # Display the top or lowest selling suppliers with total quantity and total selling price\n",
    "    print(f\"\\n{user_input.capitalize()} Customer Purchase:\")\n",
    "    print(customer_purchase.head())\n"
   ]
  },
  {
   "cell_type": "markdown",
   "id": "63ae175f-2cb0-4101-937a-291bc275e21e",
   "metadata": {},
   "source": [
    "#### **Name of Unique Customers for Particular Supplier**"
   ]
  },
  {
   "cell_type": "code",
   "execution_count": 18,
   "id": "3021cbf6-6124-4a8c-9780-eec5b0568171",
   "metadata": {},
   "outputs": [
    {
     "name": "stdin",
     "output_type": "stream",
     "text": [
      "Enter the supplier name:  Asopalav\n"
     ]
    },
    {
     "name": "stdout",
     "output_type": "stream",
     "text": [
      "Number of unique customers who bought products of Asopalav: 3\n"
     ]
    },
    {
     "name": "stdin",
     "output_type": "stream",
     "text": [
      "Do you want to see the list of customers? (yes/no):  yes\n"
     ]
    },
    {
     "name": "stdout",
     "output_type": "stream",
     "text": [
      "List of customers who bought products of Asopalav:\n",
      "Vaishali R Patil, Jayashree Pawar, Bharti Wagh\n"
     ]
    }
   ],
   "source": [
    "\n",
    "# Get user input for the supplier name\n",
    "selected_supplier = input(\"Enter the supplier name: \")\n",
    "\n",
    "# Filter the data for the selected supplier\n",
    "supplier_data = boutique[boutique['Supplier_Name'] == selected_supplier]\n",
    "\n",
    "# Check if the selected supplier exists in the data\n",
    "if supplier_data.empty:\n",
    "    print(f\"No data found for the supplier: {selected_supplier}\")\n",
    "else:\n",
    "    # Get the number of unique customers who bought products from the selected supplier\n",
    "    unique_customers = supplier_data['Customer_Name'].nunique()\n",
    "\n",
    "    # Display the result\n",
    "    print(f\"Number of unique customers who bought products of {selected_supplier}: {unique_customers}\")\n",
    "\n",
    "    # Ask the user whether to display the list of customers\n",
    "    show_customer_list = input(\"Do you want to see the list of customers? (yes/no): \").lower()\n",
    "\n",
    "    if show_customer_list == 'yes':\n",
    "        # Display the list of unique customers\n",
    "        customer_list = supplier_data['Customer_Name'].unique()\n",
    "        print(f\"List of customers who bought products of {selected_supplier}:\\n{', '.join(customer_list)}\")\n",
    "    elif show_customer_list == 'no':\n",
    "        print(\"Okay, no customer list will be displayed.\")\n",
    "    else:\n",
    "        print(\"Invalid input. Please enter 'yes' or 'no'.\")\n"
   ]
  },
  {
   "cell_type": "markdown",
   "id": "b252ea6f-9917-4119-b3f1-0f9a41a5f959",
   "metadata": {},
   "source": [
    "#### **Customer-wise Purchase History**"
   ]
  },
  {
   "cell_type": "code",
   "execution_count": 19,
   "id": "0d0367b7-84c5-4adb-9ed4-4fd8eba5f545",
   "metadata": {},
   "outputs": [
    {
     "name": "stdin",
     "output_type": "stream",
     "text": [
      "Enter the customer name:  Bunty Vanjari\n"
     ]
    },
    {
     "name": "stdout",
     "output_type": "stream",
     "text": [
      "Details for Bunty Vanjari's purchases:\n",
      "     Supplier_Name  Quantity  Selling_Price   Profit  Profit_Margin\n",
      "2  Savita's Design         8          76975  26126.0      33.940890\n",
      "5          Vandana         8          75600  22497.0      29.757937\n",
      "1          Pehnava         6          44750  18264.0      40.813408\n",
      "0    Harsh Fabrics         4          19575   7550.0      38.569604\n",
      "3         Shyamlal         1           6500   1935.0      29.769231\n",
      "4             TATA         1           4500   1955.0      43.444444\n"
     ]
    }
   ],
   "source": [
    "\n",
    "# Get user input for the customer name\n",
    "selected_customer = input(\"Enter the customer name: \")\n",
    "\n",
    "# Filter the data for the selected customer\n",
    "customer_data = boutique[boutique['Customer_Name'] == selected_customer]\n",
    "\n",
    "# Check if the selected customer exists in the data\n",
    "if customer_data.empty:\n",
    "    print(f\"No data found for the customer: {selected_customer}\")\n",
    "else:\n",
    "    # Group by supplier and aggregate quantity, selling price, and profit\n",
    "    supplier_details = customer_data.groupby('Supplier_Name').agg({\n",
    "        'Quantity': 'sum',\n",
    "        'Selling_Price': 'sum',\n",
    "        'Profit': 'sum'\n",
    "    }).reset_index()\n",
    "\n",
    "    # Calculate profit margin (assuming profit is in dollars)\n",
    "    supplier_details['Profit_Margin'] = (supplier_details['Profit'] / supplier_details['Selling_Price']) * 100\n",
    "\n",
    "    # Sort the results by quantity in descending order\n",
    "    supplier_details = supplier_details.sort_values(by='Quantity', ascending=False)\n",
    "\n",
    "    # Display the result\n",
    "    print(f\"Details for {selected_customer}'s purchases:\")\n",
    "    print(supplier_details)\n"
   ]
  },
  {
   "cell_type": "markdown",
   "id": "217c3ea6-5174-413e-bdbb-398870c5bbd5",
   "metadata": {},
   "source": [
    "#### **RFM Analysis: Segmentation and Customer Value**"
   ]
  },
  {
   "cell_type": "code",
   "execution_count": null,
   "id": "6628589e-0d2e-4b14-b91d-ea88b90a026e",
   "metadata": {
    "scrolled": true
   },
   "outputs": [
    {
     "name": "stdout",
     "output_type": "stream",
     "text": [
      "      Customer_Name  Recency  Frequency  Monetary     Segment\n",
      "0        A Deshmukh      285          3    8805.0   Low-Value\n",
      "1  Aahuja Deffodils      313          1    -270.0   Low-Value\n",
      "2    Aarti Gajariya       96          1    1554.0   Low-Value\n",
      "3       Aarti Patil       22         10    4633.0     Regular\n",
      "4     Aarusha Patil       70          7   22792.0  High-Value\n"
     ]
    }
   ],
   "source": [
    "\n",
    "# Convert 'Date' column to datetime type\n",
    "boutique['Date'] = pd.to_datetime(boutique['Date'], format='%d-%m-%Y')\n",
    "\n",
    "# Calculate the recency, frequency, and monetary (RFM) metrics\n",
    "current_date = boutique['Date'].max()\n",
    "rfm_data = boutique.groupby('Customer_Name').agg({\n",
    "    'Date': lambda x: (current_date - x.max()).days,  # Recency\n",
    "    'Transaction_id': 'count',  # Frequency\n",
    "    'Profit': 'sum'  # Monetary\n",
    "}).reset_index()\n",
    "\n",
    "# Rename the columns\n",
    "rfm_data.columns = ['Customer_Name', 'Recency', 'Frequency', 'Monetary']\n",
    "\n",
    "# Define segmentation criteria based on quartiles or specific thresholds\n",
    "recency_threshold = rfm_data['Recency'].quantile(0.5)\n",
    "frequency_threshold = rfm_data['Frequency'].quantile(0.5)\n",
    "monetary_threshold = rfm_data['Monetary'].quantile(0.5)\n",
    "\n",
    "# Create customer segments\n",
    "rfm_data['Segment'] = 'Low-Value'\n",
    "rfm_data.loc[(rfm_data['Recency'] <= recency_threshold) & \n",
    "              (rfm_data['Frequency'] >= frequency_threshold) & \n",
    "              (rfm_data['Monetary'] >= monetary_threshold), 'Segment'] = 'High-Value'\n",
    "rfm_data.loc[(rfm_data['Recency'] <= recency_threshold) & \n",
    "              (rfm_data['Frequency'] >= frequency_threshold) & \n",
    "              (rfm_data['Monetary'] < monetary_threshold), 'Segment'] = 'Regular'\n",
    "\n",
    "# Display the segmented data\n",
    "print(rfm_data.head())\n",
    "\n",
    "# Function to get customers in a specific segment\n",
    "def get_customers_in_segment(data, segment):\n",
    "    customers_in_segment = data[data['Segment'] == segment]['Customer_Name'].unique()\n",
    "\n",
    "    if len(customers_in_segment) > 0:\n",
    "        print(f\"\\nCustomers in the {segment} segment:\\n\")\n",
    "        for customer in customers_in_segment:\n",
    "            print(customer)\n",
    "    else:\n",
    "        print(f\"No customers found in the {segment} segment\")\n",
    "\n",
    "# Get input from the user for the desired segment\n",
    "segment_input = input(\"\\nEnter the segment ('Low-Value', 'High-Value', or 'Regular'): \")\n",
    "\n",
    "# Check if the input is a valid segment\n",
    "if segment_input in ['Low-Value', 'High-Value', 'Regular']:\n",
    "    # Call the function to get customers in the specified segment\n",
    "    get_customers_in_segment(rfm_data, segment_input)\n",
    "else:\n",
    "    print(\"Invalid segment input. Please enter 'Low-Value', 'High-Value', or 'Regular'.\")\n"
   ]
  },
  {
   "cell_type": "code",
   "execution_count": 21,
   "id": "8a29449a-7fa7-491d-92d9-f3935736de45",
   "metadata": {},
   "outputs": [],
   "source": [
    "rfm_data.to_csv('rfm_data.csv', index=False)"
   ]
  },
  {
   "cell_type": "markdown",
   "id": "3e504a36-e01a-4dfb-a709-ffa8750a0288",
   "metadata": {},
   "source": [
    "#### **Customer Journey Mapping**"
   ]
  },
  {
   "cell_type": "code",
   "execution_count": 22,
   "id": "14b56ecf-1ce0-4902-9f43-c8abd842304d",
   "metadata": {},
   "outputs": [
    {
     "name": "stdin",
     "output_type": "stream",
     "text": [
      "Enter the customer name:  Bunty Vanjari\n"
     ]
    },
    {
     "data": {
      "image/png": "[encoded data removed]",
      "text/plain": [
       "<Figure size 1000x400 with 1 Axes>"
      ]
     },
     "metadata": {},
     "output_type": "display_data"
    },
    {
     "name": "stdout",
     "output_type": "stream",
     "text": [
      "\n",
      "\n",
      "# Explanation\n",
      "The customer journey mapping illustrates the interactions of Bunty Vanjari with Savita's Boutique over time.\n",
      "Each data point represents a transaction, and the y-axis corresponds to the chronological order of transactions.\n"
     ]
    }
   ],
   "source": [
    "\n",
    "# Convert 'Date' column to datetime type\n",
    "boutique['Date'] = pd.to_datetime(boutique['Date'], format='%d-%m-%Y')\n",
    "\n",
    "# Get user input for the customer name\n",
    "selected_customer = input(\"Enter the customer name: \")\n",
    "\n",
    "# Filter the data for the selected customer\n",
    "customer_data = boutique[boutique['Customer_Name'] == selected_customer]\n",
    "\n",
    "# Check if the selected customer exists in the data\n",
    "if customer_data.empty:\n",
    "    print(f\"No data found for the customer: {selected_customer}\")\n",
    "else:\n",
    "    # Sort the data by date for the selected customer\n",
    "    customer_data = customer_data.sort_values('Date')\n",
    "\n",
    "    # Create the customer journey mapping\n",
    "    plt.figure(figsize=(10, 4))\n",
    "    plt.plot(customer_data['Date'], range(len(customer_data)), marker='o')\n",
    "    plt.title(f'Customer Journey Mapping for {selected_customer}')\n",
    "    plt.xlabel('Date')\n",
    "    plt.yticks(range(len(customer_data)), customer_data['Customer_Name'])\n",
    "    plt.show()\n",
    "\n",
    "    # Auto-generated explanation\n",
    "    explanation = f\"\\n\\n# Explanation\\n\"\n",
    "    explanation += f\"The customer journey mapping illustrates the interactions of {selected_customer} with Savita's Boutique over time.\"\n",
    "    explanation += f\"\\nEach data point represents a transaction, and the y-axis corresponds to the chronological order of transactions.\"\n",
    "\n",
    "    print(explanation)\n"
   ]
  },
  {
   "cell_type": "markdown",
   "id": "61c3ec00-b556-442c-9054-f7d3bf135d75",
   "metadata": {},
   "source": [
    "## ***Extra Work***"
   ]
  },
  {
   "cell_type": "markdown",
   "id": "407b7dfa-e932-426c-bb03-03244f3e2bc2",
   "metadata": {},
   "source": [
    "### **Price Sensitivity Analysis: Understanding Customer Preferences**"
   ]
  },
  {
   "cell_type": "code",
   "execution_count": 23,
   "id": "ea0ad1e7-089d-4cad-96e3-957d6db99b9f",
   "metadata": {},
   "outputs": [
    {
     "data": {
      "image/png": "[encoded data removed]",
      "text/plain": [
       "<Figure size 640x480 with 1 Axes>"
      ]
     },
     "metadata": {},
     "output_type": "display_data"
    },
    {
     "name": "stdout",
     "output_type": "stream",
     "text": [
      "Mean Squared Error: 0.3008565455924003\n",
      "\n",
      "\n",
      "# Explanation\n",
      "The Mean Squared Error (MSE) is positive, indicating the model's performance in predicting quantity sold.\n"
     ]
    }
   ],
   "source": [
    "\n",
    "import pandas as pd\n",
    "import matplotlib.pyplot as plt\n",
    "from sklearn.linear_model import LinearRegression\n",
    "from sklearn.model_selection import train_test_split\n",
    "from sklearn.metrics import mean_squared_error\n",
    "\n",
    "\n",
    "from sklearn.linear_model import LinearRegression\n",
    "from sklearn.model_selection import train_test_split\n",
    "from sklearn.metrics import mean_squared_error\n",
    "\n",
    "# Select relevant columns for price sensitivity analysis\n",
    "price_sensitivity_data = boutique[['Selling_Price', 'Quantity']]\n",
    "\n",
    "# Split the data into training and testing sets\n",
    "X_train, X_test, y_train, y_test = train_test_split(price_sensitivity_data['Selling_Price'].values.reshape(-1, 1),\n",
    "                                                    price_sensitivity_data['Quantity'].values, test_size=0.2, random_state=42)\n",
    "\n",
    "# Create and train a linear regression model\n",
    "model = LinearRegression()\n",
    "model.fit(X_train, y_train)\n",
    "\n",
    "# Make predictions on the test set\n",
    "y_pred = model.predict(X_test)\n",
    "\n",
    "# Visualize the results\n",
    "plt.scatter(X_test, y_test, color='black', label='Actual Data')\n",
    "plt.plot(X_test, y_pred, color='blue', linewidth=3, label='Regression Line')\n",
    "plt.title('Price Sensitivity Analysis')\n",
    "plt.xlabel('Selling Price')\n",
    "plt.ylabel('Quantity Sold')\n",
    "plt.legend()\n",
    "plt.show()\n",
    "\n",
    "# Evaluate the model performance\n",
    "mse = mean_squared_error(y_test, y_pred)\n",
    "print(f'Mean Squared Error: {mse}')\n",
    "\n",
    "# Auto-generated explanation\n",
    "explanation = \"\\n\\n# Explanation\\n\"\n",
    "\n",
    "if mse >= 0:\n",
    "    explanation += \"The Mean Squared Error (MSE) is positive, indicating the model's performance in predicting quantity sold.\"\n",
    "else:\n",
    "    explanation += \"The Mean Squared Error (MSE) is negative, which is unexpected in a regression context.\"\n",
    "\n",
    "print(explanation)\n"
   ]
  },
  {
   "cell_type": "markdown",
   "id": "52fe4548-f725-46de-b6b8-b1b6c24f3ad7",
   "metadata": {},
   "source": [
    "### **Elbow Method and Customer Segmentation Perspectives**"
   ]
  },
  {
   "cell_type": "code",
   "execution_count": 24,
   "id": "a1cf57cc-e031-4359-901c-8ee1072d0d9f",
   "metadata": {},
   "outputs": [
    {
     "data": {
      "image/png": "[encoded data removed]",
      "text/plain": [
       "<Figure size 800x400 with 1 Axes>"
      ]
     },
     "metadata": {},
     "output_type": "display_data"
    },
    {
     "data": {
      "image/png": "[encoded data removed]",
      "text/plain": [
       "<Figure size 640x480 with 1 Axes>"
      ]
     },
     "metadata": {},
     "output_type": "display_data"
    },
    {
     "name": "stdout",
     "output_type": "stream",
     "text": [
      "Optimal number of clusters (K) based on Elbow Method: 3\n",
      "Customer Segmentation Results:\n",
      "Cluster\n",
      "0    1642\n",
      "2     326\n",
      "1      28\n",
      "Name: count, dtype: int64\n"
     ]
    }
   ],
   "source": [
    "\n",
    "import pandas as pd\n",
    "import numpy as np\n",
    "import matplotlib.pyplot as plt\n",
    "import seaborn as sns\n",
    "from sklearn.cluster import KMeans\n",
    "from sklearn.preprocessing import StandardScaler\n",
    "\n",
    "def perform_customer_segmentation(data):\n",
    "    # Select relevant columns for segmentation\n",
    "    segmentation_data = data[['Selling_Price', 'Cost_Price', 'Quantity', 'Profit']]\n",
    "\n",
    "    # Standardize the data\n",
    "    scaler = StandardScaler()\n",
    "    scaled_data = scaler.fit_transform(segmentation_data)\n",
    "\n",
    "    # Determine the optimal number of clusters using the Elbow Method\n",
    "    sse = []\n",
    "    for k in range(1, 11):\n",
    "        kmeans = KMeans(n_clusters=k, random_state=42, n_init=10)\n",
    "        kmeans.fit(scaled_data)\n",
    "        sse.append(kmeans.inertia_)\n",
    "\n",
    "    # Plot the Elbow Method graph\n",
    "    plt.figure(figsize=(8, 4))\n",
    "    plt.plot(range(1, 11), sse, marker='o')\n",
    "    plt.title('Elbow Method for Optimal K')\n",
    "    plt.xlabel('Number of Clusters (K)')\n",
    "    plt.ylabel('Sum of Squared Errors (SSE)')\n",
    "    plt.show()\n",
    "\n",
    "    # Based on the Elbow Method, choose the optimal number of clusters (K)\n",
    "    optimal_k = 3\n",
    "\n",
    "    # Apply k-means clustering\n",
    "    kmeans = KMeans(n_clusters=optimal_k, random_state=42, n_init=10)\n",
    "    data['Cluster'] = kmeans.fit_predict(scaled_data)\n",
    "\n",
    "    # Visualize the clusters\n",
    "    sns.scatterplot(x='Selling_Price', y='Profit', hue='Cluster', data=data, palette='viridis')\n",
    "    plt.title('Customer Segmentation')\n",
    "    plt.xlabel('Selling Price')\n",
    "    plt.ylabel('Profit')\n",
    "    plt.show()\n",
    "\n",
    "    # Explain the results\n",
    "    print(f\"Optimal number of clusters (K) based on Elbow Method: {optimal_k}\")\n",
    "    print(\"Customer Segmentation Results:\")\n",
    "    print(data['Cluster'].value_counts())\n",
    "\n",
    "   \n",
    "\n",
    "# Assuming 'boutique' is the DataFrame with the merged data\n",
    "perform_customer_segmentation(boutique)\n"
   ]
  },
  {
   "cell_type": "markdown",
   "id": "0dfdb5be-4983-4b4a-b6e4-b48e8f5318d4",
   "metadata": {},
   "source": [
    "#### **List Of Customer Names Cluster-wise**"
   ]
  },
  {
   "cell_type": "code",
   "execution_count": 25,
   "id": "1e69b5dd-5ed7-455c-bac4-6e4473ff199b",
   "metadata": {},
   "outputs": [
    {
     "name": "stdin",
     "output_type": "stream",
     "text": [
      "Enter the cluster (0, 1, or 2):  1\n"
     ]
    },
    {
     "name": "stdout",
     "output_type": "stream",
     "text": [
      "\n",
      "Customers in Cluster 1:\n",
      "\n",
      "Dr.Neeta Gangurde\n",
      "Vaishali R Patil\n",
      "Jyotsna Shete\n",
      "Geeta Powar\n",
      "Mandakini Patil\n",
      "Pranita Patil\n",
      "Jayahree N Pawar\n",
      "Bharti Wagh\n",
      "Bunty Vanjari\n",
      "Naina Patil\n",
      "Dr.Mauskar\n",
      "Suvarna Chavhaan\n",
      "Savita Borse\n"
     ]
    }
   ],
   "source": [
    "\n",
    "def find_customers_in_cluster(data):\n",
    "    # Get user input for the desired cluster\n",
    "    cluster_input = input(\"Enter the cluster (0, 1, or 2): \")\n",
    "\n",
    "    # Check if the input is a valid cluster\n",
    "    if cluster_input.isdigit() and int(cluster_input) in [0, 1, 2]:\n",
    "        desired_cluster = int(cluster_input)\n",
    "\n",
    "        # Get a list of customers in the specified cluster\n",
    "        customers_in_cluster = data[data['Cluster'] == desired_cluster]['Customer_Name'].unique()\n",
    "\n",
    "        if len(customers_in_cluster) > 0:\n",
    "            print(f\"\\nCustomers in Cluster {desired_cluster}:\\n\")\n",
    "            for customer in customers_in_cluster:\n",
    "                print(customer)\n",
    "        else:\n",
    "            print(f\"No customers found in Cluster {desired_cluster}\")\n",
    "    else:\n",
    "        print(\"Invalid cluster input. Please enter 0, 1, or 2.\")\n",
    "\n",
    "# Assuming 'boutique' is the DataFrame with the merged data\n",
    "find_customers_in_cluster(boutique)\n"
   ]
  },
  {
   "cell_type": "markdown",
   "id": "42265ec7-f829-4341-8b70-72e4e642c0aa",
   "metadata": {},
   "source": [
    "## ***Thank You***"
   ]
  }
 ],
 "metadata": {
  "kernelspec": {
   "display_name": "Python 3 (ipykernel)",
   "language": "python",
   "name": "python3"
  },
  "language_info": {
   "codemirror_mode": {
    "name": "ipython",
    "version": 3
   },
   "file_extension": ".py",
   "mimetype": "text/x-python",
   "name": "python",
   "nbconvert_exporter": "python",
   "pygments_lexer": "ipython3",
   "version": "3.11.0rc2"
  }
 },
 "nbformat": 4,
 "nbformat_minor": 5
}
